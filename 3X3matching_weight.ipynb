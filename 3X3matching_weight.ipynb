{
 "cells": [
  {
   "cell_type": "code",
   "execution_count": 1,
   "metadata": {},
   "outputs": [],
   "source": [
    "#initialization\n",
    "import matplotlib.pyplot as plt\n",
    "import numpy as np\n",
    "from numpy import pi\n",
    "\n",
    "# importing Qiskit\n",
    "from qiskit import IBMQ, Aer, assemble, transpile\n",
    "from qiskit import QuantumCircuit, ClassicalRegister, QuantumRegister\n",
    "from qiskit.providers.ibmq import least_busy\n",
    "from qiskit.circuit.library import C3XGate\n",
    "# import basic plot tools\n",
    "from qiskit.visualization import plot_histogram\n",
    "\n",
    "import mplhep\n",
    "plt.style.use(mplhep.style.LHCb2)  # CMS or ATLAS/LHCb"
   ]
  },
  {
   "cell_type": "code",
   "execution_count": 2,
   "metadata": {},
   "outputs": [],
   "source": [
    "def initialize_s(qc, n_qubit, num_matching):\n",
    "    \"\"\"Apply a H-gate to 'qubits' in qc\"\"\"\n",
    "    qc.x(n_qubit - 1)\n",
    "    qc.h(n_qubit - 1)\n",
    "    for q in range(num_matching):\n",
    "        qc.h(q)\n",
    "    #qc.reset(num_qubit)\n",
    "    #qc.h(num_qubit)\n",
    "    qc.barrier(list(range(n_qubit-1)))\n",
    "    return qc"
   ]
  },
  {
   "cell_type": "code",
   "execution_count": 3,
   "metadata": {},
   "outputs": [],
   "source": [
    "def violate_state(qc, n_qubit):\n",
    "    #qc = QuantumCircuit(10)\n",
    "    qc.barrier(list(range(n_qubit-1)))\n",
    "    qc.ccx(0, 1, 6)\n",
    "    qc.ccx(2, 3, 7)\n",
    "    qc.ccx(4, 5, 8)\n",
    "    qc.x([6, 7, 8])\n",
    "    qc.append(C3XGate(), [6, 7, 8, 9])\n",
    "    qc.x([6, 7, 8])\n",
    "    qc.ccx(4, 5, 8)\n",
    "    qc.ccx(2, 3, 7)\n",
    "    qc.ccx(0, 1, 6)\n",
    "    #oracle_violate = qc.to_gate()\n",
    "    #oracle_violate.name = \"violate\"\n",
    "    #qc.draw()\n",
    "    return qc"
   ]
  },
  {
   "cell_type": "code",
   "execution_count": 4,
   "metadata": {},
   "outputs": [],
   "source": [
    "def compare_node1_node2(qc, n_qubit):\n",
    "    #qc = QuantumCircuit(11)\n",
    "    \n",
    "    qc.barrier(list(range(n_qubit-1)))\n",
    "    qc.cx(0, 2)\n",
    "    qc.barrier(0)\n",
    "    qc.cx(1, 3)\n",
    "    qc.barrier([0, 1])\n",
    "    qc.cx(2, 6)\n",
    "    qc.barrier([0, 1, 2])\n",
    "    qc.cx(3, 7)\n",
    "    qc.barrier([0, 1, 2, 3, 4, 5])\n",
    "    qc.barrier([0, 1, 2, 3, 4, 5])\n",
    "    qc.barrier([0, 1, 2, 3, 4, 5])\n",
    "    qc.x([6, 7])\n",
    "    qc.ccx(6, 7, 10)\n",
    "    qc.x([6, 7])\n",
    "    qc.barrier([0, 1, 2])\n",
    "    qc.cx(3, 7)\n",
    "    qc.barrier([0, 1])\n",
    "    qc.cx(2, 6)\n",
    "    qc.barrier([0])\n",
    "    qc.cx(1, 3)\n",
    "    qc.cx(0, 2)\n",
    "    #oracle_edge12 = qc.to_gate()\n",
    "    #oracle_edge12.name = \"edge12\"\n",
    "    #qc.draw()\n",
    "    return qc"
   ]
  },
  {
   "cell_type": "code",
   "execution_count": 5,
   "metadata": {},
   "outputs": [],
   "source": [
    "def compare_node2_node3(qc, n_qubit):\n",
    "    #qc = QuantumCircuit(13)\n",
    "    \n",
    "    qc.barrier(list(range(n_qubit-1)))\n",
    "    qc.cx(2, 4)\n",
    "    qc.barrier([0, 1])\n",
    "    qc.cx(3, 5)\n",
    "    qc.barrier([0, 1, 2])\n",
    "    qc.cx(4, 6)\n",
    "    qc.barrier([0, 1, 2, 3])\n",
    "    qc.cx(5, 7)\n",
    "    qc.barrier([0, 1, 2, 3, 4])\n",
    "    qc.x([6, 7])\n",
    "    qc.ccx(6, 7, 12)\n",
    "    qc.x([6, 7])\n",
    "    qc.barrier([0, 1, 2, 3, 4, 5])\n",
    "    qc.barrier([0, 1, 2, 3, 4, 5])\n",
    "    qc.barrier([0, 1, 2, 3, 4, 5])\n",
    "    qc.cx(5, 7)\n",
    "    qc.barrier([0, 1, 2, 3, 4])\n",
    "    qc.cx(4, 6)\n",
    "    qc.barrier([0, 1, 2, 3])\n",
    "    qc.cx(3, 5)\n",
    "    qc.barrier([0, 1, 2])\n",
    "    qc.cx(2, 4)\n",
    "    qc.barrier([0, 1])\n",
    "    #oracle_edge23 = qc.to_gate()\n",
    "    #oracle_edge23.name = \"edge23\"\n",
    "    #qc.draw()\n",
    "    return qc"
   ]
  },
  {
   "cell_type": "code",
   "execution_count": 6,
   "metadata": {},
   "outputs": [],
   "source": [
    "def compare_node1_node3(qc, n_qubit):\n",
    "    #qc = QuantumCircuit(12)\n",
    "    qc.barrier(list(range(n_qubit-1)))\n",
    "    qc.cx(0, 4)\n",
    "    qc.barrier([0])\n",
    "    qc.cx(1, 5)\n",
    "    qc.cx(4, 6)\n",
    "    qc.barrier([0, 1, 2, 3])\n",
    "    qc.cx(5, 7)\n",
    "    qc.barrier([0, 1, 2, 3, 4, 5])\n",
    "    qc.barrier([0, 1, 2, 3, 4, 5])\n",
    "    qc.barrier([0, 1, 2, 3, 4, 5])\n",
    "    qc.x([6, 7])\n",
    "    qc.ccx(6, 7, 11)\n",
    "    qc.x([6, 7])\n",
    "    qc.cx(5, 7)\n",
    "    qc.barrier([0, 1, 2, 3])\n",
    "    qc.cx(4, 6)\n",
    "    qc.barrier([0, 1, 2, 3])\n",
    "    qc.cx(1, 5)\n",
    "    qc.barrier([0])\n",
    "    qc.cx(0, 4)\n",
    "    \n",
    "    #oracle_edge13 = qc.to_gate()\n",
    "    #oracle_edge13.name = \"edge13\"\n",
    "    #qc.draw()\n",
    "    return qc"
   ]
  },
  {
   "cell_type": "code",
   "execution_count": 7,
   "metadata": {},
   "outputs": [],
   "source": [
    "def diffuser(qc, nqubits, n_qubit):\n",
    "    qc.barrier(list(range(n_qubit-1)))\n",
    "    #qc = QuantumCircuit(nqubits)\n",
    "    # Apply transformation |s> -> |00..0> (H-gates)\n",
    "    for qubit in range(nqubits):\n",
    "        qc.h(qubit)\n",
    "    # Apply transformation |00..0> -> |11..1> (X-gates)\n",
    "    for qubit in range(nqubits):\n",
    "        qc.x(qubit)\n",
    "    # Do multi-controlled-Z gate\n",
    "    qc.h(nqubits-1)\n",
    "    qc.mct(list(range(nqubits-1)), nqubits-1)  # multi-controlled-toffoli\n",
    "    qc.h(nqubits-1)\n",
    "    qc.barrier(list(range(nqubits-1)))\n",
    "    # Apply transformation |11..1> -> |00..0>\n",
    "    for qubit in range(nqubits):\n",
    "        qc.x(qubit)\n",
    "    # Apply transformation |00..0> -> |s>\n",
    "    for qubit in range(nqubits):\n",
    "        qc.h(qubit)\n",
    "    # We will return the diffuser as a gate\n",
    "    #U_s = qc.to_gate()\n",
    "    #U_s.name = \"diffuser\"\n",
    "    return qc"
   ]
  },
  {
   "cell_type": "code",
   "execution_count": 8,
   "metadata": {},
   "outputs": [],
   "source": [
    "def rotate_a1(qc, n_qubit, angle):\n",
    "    #qc = QuantumCircuit(12)\n",
    "    qc.barrier(list(range(n_qubit-1)))\n",
    "\n",
    "    qc.x([0, 1])\n",
    "    qc.ccx(0, 1, 13)\n",
    "    qc.crx(angle, 13, 14)\n",
    "    qc.ccx(0, 1, 13)\n",
    "    qc.x([0, 1])\n",
    "    \n",
    "    #oracle_edge13 = qc.to_gate()\n",
    "    #oracle_edge13.name = \"edge13\"\n",
    "    #qc.draw()\n",
    "    return qc"
   ]
  },
  {
   "cell_type": "code",
   "execution_count": 9,
   "metadata": {},
   "outputs": [],
   "source": [
    "def rotate_a2(qc, n_qubit, angle):\n",
    "    #qc = QuantumCircuit(12)\n",
    "    qc.barrier(list(range(n_qubit-1)))\n",
    "\n",
    "    qc.x([1])\n",
    "    qc.ccx(0, 1, 13)\n",
    "    qc.crx(angle, 13, 15)\n",
    "    qc.ccx(0, 1, 13)\n",
    "    qc.x([1])\n",
    "    \n",
    "    #oracle_edge13 = qc.to_gate()\n",
    "    #oracle_edge13.name = \"edge13\"\n",
    "    #qc.draw()\n",
    "    return qc"
   ]
  },
  {
   "cell_type": "code",
   "execution_count": 10,
   "metadata": {},
   "outputs": [],
   "source": [
    "def rotate_a3(qc, n_qubit, angle):\n",
    "    #qc = QuantumCircuit(12)\n",
    "    qc.barrier(list(range(n_qubit-1)))\n",
    "\n",
    "    qc.x([0])\n",
    "    qc.ccx(0, 1, 13)\n",
    "    qc.crx(angle, 13, 16)\n",
    "    qc.ccx(0, 1, 13)\n",
    "    qc.x([0])\n",
    "    \n",
    "    #oracle_edge13 = qc.to_gate()\n",
    "    #oracle_edge13.name = \"edge13\"\n",
    "    #qc.draw()\n",
    "    return qc"
   ]
  },
  {
   "cell_type": "code",
   "execution_count": 11,
   "metadata": {},
   "outputs": [],
   "source": [
    "def rotate_b1(qc, n_qubit, angle):\n",
    "    #qc = QuantumCircuit(12)\n",
    "    qc.barrier(list(range(n_qubit-1)))\n",
    "\n",
    "    qc.x([2, 3])\n",
    "    qc.ccx(2, 3, 13)\n",
    "    qc.crx(angle, 13, 17)\n",
    "    qc.ccx(2, 3, 13)\n",
    "    qc.x([2, 3])\n",
    "    \n",
    "    #oracle_edge13 = qc.to_gate()\n",
    "    #oracle_edge13.name = \"edge13\"\n",
    "    #qc.draw()\n",
    "    return qc"
   ]
  },
  {
   "cell_type": "code",
   "execution_count": 12,
   "metadata": {},
   "outputs": [],
   "source": [
    "def rotate_b2(qc, n_qubit, angle):\n",
    "    #qc = QuantumCircuit(12)\n",
    "    qc.barrier(list(range(n_qubit-1)))\n",
    "\n",
    "    qc.x([3])\n",
    "    qc.ccx(2, 3, 13)\n",
    "    qc.crx(angle, 13, 18)\n",
    "    qc.ccx(2, 3, 13)\n",
    "    qc.x([3])\n",
    "    \n",
    "    #oracle_edge13 = qc.to_gate()\n",
    "    #oracle_edge13.name = \"edge13\"\n",
    "    #qc.draw()\n",
    "    return qc"
   ]
  },
  {
   "cell_type": "code",
   "execution_count": 13,
   "metadata": {},
   "outputs": [],
   "source": [
    "def rotate_b3(qc, n_qubit, angle):\n",
    "    #qc = QuantumCircuit(12)\n",
    "    qc.barrier(list(range(n_qubit-1)))\n",
    "\n",
    "    qc.x([2])\n",
    "    qc.ccx(2, 3, 13)\n",
    "    qc.crx(angle, 13, 19)\n",
    "    qc.ccx(2, 3, 13)\n",
    "    qc.x([2])\n",
    "    \n",
    "    #oracle_edge13 = qc.to_gate()\n",
    "    #oracle_edge13.name = \"edge13\"\n",
    "    #qc.draw()\n",
    "    return qc"
   ]
  },
  {
   "cell_type": "code",
   "execution_count": 14,
   "metadata": {},
   "outputs": [],
   "source": [
    "def rotate_c1(qc, n_qubit, angle):\n",
    "    #qc = QuantumCircuit(12)\n",
    "    qc.barrier(list(range(n_qubit-1)))\n",
    "\n",
    "    qc.x([4, 5])\n",
    "    qc.ccx(4, 5, 13)\n",
    "    qc.crx(angle, 13, 20)\n",
    "    qc.ccx(4, 5, 13)\n",
    "    qc.x([4, 5])\n",
    "    \n",
    "    #oracle_edge13 = qc.to_gate()\n",
    "    #oracle_edge13.name = \"edge13\"\n",
    "    #qc.draw()\n",
    "    return qc"
   ]
  },
  {
   "cell_type": "code",
   "execution_count": 15,
   "metadata": {},
   "outputs": [],
   "source": [
    "def rotate_c2(qc, n_qubit, angle):\n",
    "    #qc = QuantumCircuit(12)\n",
    "    qc.barrier(list(range(n_qubit-1)))\n",
    "\n",
    "    qc.x([5])\n",
    "    qc.ccx(4, 5, 13)\n",
    "    qc.crx(angle, 13, 21)\n",
    "    qc.ccx(4, 5, 13)\n",
    "    qc.x([5])\n",
    "    \n",
    "    #oracle_edge13 = qc.to_gate()\n",
    "    #oracle_edge13.name = \"edge13\"\n",
    "    #qc.draw()\n",
    "    return qc"
   ]
  },
  {
   "cell_type": "code",
   "execution_count": 16,
   "metadata": {},
   "outputs": [],
   "source": [
    "def rotate_c3(qc, n_qubit, angle):\n",
    "    #qc = QuantumCircuit(12)\n",
    "    qc.barrier(list(range(n_qubit-1)))\n",
    "\n",
    "    qc.x([4])\n",
    "    qc.ccx(4, 5, 13)\n",
    "    qc.crx(angle, 13, 22)\n",
    "    qc.ccx(4, 5, 13)\n",
    "    qc.x([4])\n",
    "    \n",
    "    #oracle_edge13 = qc.to_gate()\n",
    "    #oracle_edge13.name = \"edge13\"\n",
    "    #qc.draw()\n",
    "    return qc"
   ]
  },
  {
   "cell_type": "code",
   "execution_count": 24,
   "metadata": {},
   "outputs": [
    {
     "data": {
      "text/plain": [
       "<qiskit.circuit.instructionset.InstructionSet at 0x24ef70fdd90>"
      ]
     },
     "execution_count": 24,
     "metadata": {},
     "output_type": "execute_result"
    }
   ],
   "source": [
    "n_qubit = 24\n",
    "n_matching = 6\n",
    "grover_circuit = QuantumCircuit(n_qubit, n_matching)\n",
    "grover_circuit.reset(range(0, 23))\n",
    "grover_circuit = initialize_s(grover_circuit, n_qubit, n_matching)\n",
    "for i in range(1):\n",
    "    #1.249   1\n",
    "    #1.1071   2\n",
    "    #0.99116   3\n",
    "    #0.88608   4\n",
    "    #0.7854   5\n",
    "    #0.68472   6\n",
    "    #0.57964   7\n",
    "    #0.46365   8\n",
    "    #0.32175   9\n",
    "    #0         10\n",
    "\n",
    "    grover_circuit = rotate_a1(grover_circuit, n_qubit, 0.68472)\n",
    "    grover_circuit = rotate_a2(grover_circuit, n_qubit, 1.249)\n",
    "    grover_circuit = rotate_a3(grover_circuit, n_qubit, 0.57964)\n",
    "    grover_circuit = rotate_b1(grover_circuit, n_qubit, 0.99116)\n",
    "    grover_circuit = rotate_b2(grover_circuit, n_qubit, 0.88608)\n",
    "    grover_circuit = rotate_b3(grover_circuit, n_qubit, 0.46365)\n",
    "    grover_circuit = rotate_c1(grover_circuit, n_qubit, 1.1071)\n",
    "    grover_circuit = rotate_c2(grover_circuit, n_qubit, 0.32175)\n",
    "    grover_circuit = rotate_c3(grover_circuit, n_qubit, 0.7854)\n",
    "    grover_circuit = violate_state(grover_circuit, n_qubit)\n",
    "    grover_circuit = compare_node1_node2(grover_circuit, n_qubit)\n",
    "    grover_circuit = compare_node1_node3(grover_circuit, n_qubit)\n",
    "    grover_circuit = compare_node2_node3(grover_circuit, n_qubit)\n",
    "    grover_circuit.barrier([8, 9, 10, 11, 12, 13])\n",
    "    grover_circuit.barrier([8, 9, 10, 11, 12, 13])\n",
    "    grover_circuit.barrier([7, 8, 9, 10, 11, 12, 13])\n",
    "    grover_circuit.barrier([6, 7, 8, 9, 10, 11, 12, 13])\n",
    "    grover_circuit.barrier([5, 6, 7, 8, 9, 10, 11, 12, 13])\n",
    "    #grover_circuit.barrier([7, 8, 9, 10, 11, 12, 13, 14, 15])\n",
    "    #grover_circuit.barrier([0, 1, 2, 3, 4, 5, 6, 7, 8, 9, 10, 11, 12, 13, 14, 15])\n",
    "    grover_circuit.x([10, 11, 12, 14, 15, 16, 17, 18, 19, 20, 21, 22])\n",
    "    grover_circuit.mcx([9, 10, 11, 12, 14, 15, 16, 17, 18, 19, 20, 21, 22], n_qubit-1)\n",
    "    grover_circuit.x([10, 11, 12, 14, 15, 16, 17, 18, 19, 20, 21, 22])\n",
    "    grover_circuit.h([n_qubit-1])\n",
    "    grover_circuit.barrier([0, 1, 2, 3, 4, 5, 6, 7, 8, 9, 10, 11, 12])\n",
    "    grover_circuit = compare_node2_node3(grover_circuit, n_qubit)\n",
    "    grover_circuit = compare_node1_node3(grover_circuit, n_qubit)\n",
    "    grover_circuit = compare_node1_node2(grover_circuit, n_qubit)\n",
    "    grover_circuit = violate_state(grover_circuit, n_qubit)\n",
    "    grover_circuit.barrier([0, 1, 2, 3, 4, 5, 6, 7, 8, 9, 10, 11, 12])\n",
    "    grover_circuit = rotate_c3(grover_circuit, n_qubit, -0.7854)\n",
    "    grover_circuit = rotate_c2(grover_circuit, n_qubit, -0.32175)\n",
    "    grover_circuit = rotate_c1(grover_circuit, n_qubit, -1.1071)\n",
    "    grover_circuit = rotate_b3(grover_circuit, n_qubit, -0.46365)\n",
    "    grover_circuit = rotate_b2(grover_circuit, n_qubit, -0.88608)\n",
    "    grover_circuit = rotate_b1(grover_circuit, n_qubit, -0.99116)\n",
    "    grover_circuit = rotate_a3(grover_circuit, n_qubit, -0.57964)\n",
    "    grover_circuit = rotate_a2(grover_circuit, n_qubit, -1.249)\n",
    "    grover_circuit = rotate_a1(grover_circuit, n_qubit, -0.68472)\n",
    "    grover_circuit = diffuser(grover_circuit, 6, n_qubit)\n",
    "# for i in range(1):\n",
    "#     #grover_circuit = violate_state(grover_circuit)\n",
    "#     grover_circuit.append(violate_state(), [0, 1, 2, 3, 4, 5, 6, 7, 8, 9])\n",
    "#     grover_circuit.append(compare_node1_node2(), [0, 1, 2, 3, 4, 5, 6, 7, 8, 9, 10])\n",
    "#     grover_circuit.append(compare_node1_node3(), [0, 1, 2, 3, 4, 5, 6, 7, 8, 9, 10, 11])\n",
    "#     grover_circuit.append(compare_node2_node3(), [0, 1, 2, 3, 4, 5, 6, 7, 8, 9, 10, 11, 12])\n",
    "#     grover_circuit.x([10, 11, 12])\n",
    "#     grover_circuit.mcx([9, 10, 11, 12], 13)\n",
    "#     grover_circuit.x([10, 11, 12])\n",
    "#     grover_circuit.h([13])\n",
    "#     grover_circuit.append(compare_node2_node3(), [0, 1, 2, 3, 4, 5, 6, 7, 8, 9, 10, 11, 12])\n",
    "#     grover_circuit.append(compare_node1_node3(), [0, 1, 2, 3, 4, 5, 6, 7, 8, 9, 10, 11])\n",
    "#     grover_circuit.append(compare_node1_node2(), [0, 1, 2, 3, 4, 5, 6, 7, 8, 9, 10])\n",
    "#     grover_circuit.append(violate_state(), [0, 1, 2, 3, 4, 5, 6, 7, 8, 9])\n",
    "#     grover_circuit.append(diffuser(6), [0, 1, 2, 3, 4, 5])\n",
    "    \n",
    "grover_circuit.measure([0, 1, 2, 3, 4, 5], [0, 1, 2, 3, 4, 5])\n",
    "#grover_circuit.draw(output = \"mpl\")"
   ]
  },
  {
   "cell_type": "code",
   "execution_count": 25,
   "metadata": {},
   "outputs": [],
   "source": [
    "from qiskit import BasicAer, Aer,execute\n",
    "sim = Aer.get_backend('aer_simulator_statevector')\n",
    "sim.set_options(device='CPU')\n",
    "#sim = Aer.get_backend('aer_simulator')"
   ]
  },
  {
   "cell_type": "code",
   "execution_count": 26,
   "metadata": {},
   "outputs": [],
   "source": [
    "job = execute(grover_circuit, backend = sim, shots = 100000)"
   ]
  },
  {
   "cell_type": "code",
   "execution_count": 27,
   "metadata": {},
   "outputs": [],
   "source": [
    "counts = job.result().get_counts()"
   ]
  },
  {
   "cell_type": "code",
   "execution_count": 28,
   "metadata": {},
   "outputs": [
    {
     "data": {
      "image/png": "[encoded data removed]",
      "text/plain": [
       "<Figure size 504x360 with 1 Axes>"
      ]
     },
     "execution_count": 28,
     "metadata": {},
     "output_type": "execute_result"
    }
   ],
   "source": [
    "plot_histogram(counts)"
   ]
  },
  {
   "cell_type": "code",
   "execution_count": 29,
   "metadata": {},
   "outputs": [
    {
     "data": {
      "text/plain": [
       "qiskit.result.counts.Counts"
      ]
     },
     "execution_count": 29,
     "metadata": {},
     "output_type": "execute_result"
    }
   ],
   "source": [
    "type(counts)"
   ]
  },
  {
   "cell_type": "code",
   "execution_count": 30,
   "metadata": {},
   "outputs": [
    {
     "data": {
      "text/plain": [
       "'011000'"
      ]
     },
     "execution_count": 30,
     "metadata": {},
     "output_type": "execute_result"
    }
   ],
   "source": [
    "max(counts, key=counts.get)"
   ]
  },
  {
   "cell_type": "code",
   "execution_count": 33,
   "metadata": {},
   "outputs": [
    {
     "data": {
      "text/plain": [
       "['111111',\n",
       " '110000',\n",
       " '011101',\n",
       " '000001',\n",
       " '111001',\n",
       " '010011',\n",
       " '001000',\n",
       " '010111',\n",
       " '010110',\n",
       " '110110',\n",
       " '101101',\n",
       " '010101',\n",
       " '011001',\n",
       " '110011',\n",
       " '101100',\n",
       " '111000',\n",
       " '001011',\n",
       " '101000',\n",
       " '101110',\n",
       " '100101',\n",
       " '111010',\n",
       " '101001',\n",
       " '111110',\n",
       " '000111',\n",
       " '000011',\n",
       " '001100',\n",
       " '011010',\n",
       " '011011',\n",
       " '011100',\n",
       " '001010',\n",
       " '110100',\n",
       " '100110',\n",
       " '000010',\n",
       " '001111',\n",
       " '001101',\n",
       " '101011',\n",
       " '010100',\n",
       " '110001',\n",
       " '101010',\n",
       " '100010',\n",
       " '110010',\n",
       " '010001',\n",
       " '111011',\n",
       " '110111',\n",
       " '000000',\n",
       " '000100',\n",
       " '010000',\n",
       " '011111',\n",
       " '001110',\n",
       " '111100',\n",
       " '100000',\n",
       " '011110',\n",
       " '110101',\n",
       " '100111',\n",
       " '100011',\n",
       " '101111',\n",
       " '000101',\n",
       " '111101',\n",
       " '100001',\n",
       " '001001',\n",
       " '000110',\n",
       " '100100',\n",
       " '010010',\n",
       " '011000']"
      ]
     },
     "execution_count": 33,
     "metadata": {},
     "output_type": "execute_result"
    }
   ],
   "source": [
    "sorted(counts, key=counts.get)"
   ]
  },
  {
   "cell_type": "code",
   "execution_count": null,
   "metadata": {},
   "outputs": [],
   "source": [
    "sorted(counts, key=counts.get)[-6]"
   ]
  }
 ],
 "metadata": {
  "kernelspec": {
   "display_name": "Python 3.9.12 ('quantum')",
   "language": "python",
   "name": "python3"
  },
  "language_info": {
   "codemirror_mode": {
    "name": "ipython",
    "version": 3
   },
   "file_extension": ".py",
   "mimetype": "text/x-python",
   "name": "python",
   "nbconvert_exporter": "python",
   "pygments_lexer": "ipython3",
   "version": "3.9.12"
  },
  "orig_nbformat": 4,
  "vscode": {
   "interpreter": {
    "hash": "d8a7481d9680c20e68e4c37200255363f883e15033fd4c0941b9f74b1b9693e1"
   }
  }
 },
 "nbformat": 4,
 "nbformat_minor": 2
}
