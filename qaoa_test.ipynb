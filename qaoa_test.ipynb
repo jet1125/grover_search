{
 "cells": [
  {
   "cell_type": "code",
   "execution_count": 2,
   "metadata": {},
   "outputs": [],
   "source": [
    "import pennylane as qml\n",
    "from pennylane import numpy as np\n",
    "import networkx as nx\n",
    "import scipy\n",
    "\n",
    "np.random.seed(42)"
   ]
  },
  {
   "cell_type": "code",
   "execution_count": 3,
   "metadata": {},
   "outputs": [],
   "source": [
    "## ALL USER INPUTS ## \n",
    "\n",
    "edges = [(0,1,0.7),(2,3,5),(3,0,4.5), (2,0,2.2), (0,3,2.5)] # Input the graph here. Coming up next: random graph generator?\n",
    "\n",
    "## ADVANCED USER INPUTS ##\n",
    "# For those familiar with the algorithm - if you want to tweak any hyperparameters ;)\n",
    "\n",
    "num_layers = 4 # The number of layers to repeat our cost and mixer unitaries\n",
    "num_reps = 100 # The number of repetitions of the circuit when sampling probability distribution. AKA the number of shots.\n",
    "num_iters = 100 # The number of iterations our optimizer will go through when optimizing parameters\n",
    "init_params = 0.01 * np.random.rand(2, num_layers) # Initialize the parameters near zero. Generates array size 2, 4. "
   ]
  },
  {
   "cell_type": "code",
   "execution_count": 4,
   "metadata": {},
   "outputs": [
    {
     "name": "stdout",
     "output_type": "stream",
     "text": [
      "4\n"
     ]
    }
   ],
   "source": [
    "nodes = []\n",
    "for edge in edges:\n",
    "    start_node = edge[0]\n",
    "    end_node = edge[1]\n",
    "    if (start_node not in nodes):\n",
    "        nodes.append(start_node)\n",
    "    if (end_node not in nodes):\n",
    "        nodes.append(end_node)\n",
    "num_nodes = len(nodes)\n",
    "print(num_nodes)"
   ]
  },
  {
   "cell_type": "code",
   "execution_count": 6,
   "metadata": {},
   "outputs": [
    {
     "data": {
      "text/plain": [
       "{(0, 1): Text(0.5073598498836595, 0.4174873431467674, '0.7'),\n",
       " (0, 3): Text(-0.317498175808859, -0.10080970843869018, '2.5'),\n",
       " (0, 2): Text(-0.17514197430748168, -0.3016719523281225, '2.2'),\n",
       " (2, 3): Text(-0.5073598498836595, -0.4174873431467673, '5')}"
      ]
     },
     "execution_count": 6,
     "metadata": {},
     "output_type": "execute_result"
    },
    {
     "data": {
      "image/png": "[encoded data removed]",
      "text/plain": [
       "<Figure size 432x288 with 1 Axes>"
      ]
     },
     "metadata": {},
     "output_type": "display_data"
    }
   ],
   "source": [
    "graph = nx.Graph() \n",
    "graph.add_nodes_from(nodes)\n",
    "graph.add_weighted_edges_from(edges)\n",
    "\n",
    "pos = nx.spring_layout(graph)\n",
    "nx.draw(graph, pos, with_labels = True, font_weight = 'bold')\n",
    "labels = nx.get_edge_attributes(graph, 'weight')\n",
    "nx.draw_networkx_edge_labels(graph, pos, edge_labels = labels)\n",
    "#plt.savefig(\"graph-weighted.png\")"
   ]
  },
  {
   "cell_type": "code",
   "execution_count": 7,
   "metadata": {},
   "outputs": [],
   "source": [
    "# Mixer layer with parameter beta\n",
    "def mixer_layer(beta):\n",
    "    for wire in range(num_nodes):\n",
    "        qml.RX(2 * beta, wires=wire)\n",
    "\n",
    "# Cost layer with parameter gamma\n",
    "def cost_layer(gamma):\n",
    "    for edge in edges:\n",
    "        wire1 = edge[0]\n",
    "        wire2 = edge[1]\n",
    "        weight = edge[2]\n",
    "        qml.CNOT(wires=[wire1, wire2])\n",
    "        qml.RZ(gamma*weight, wires=wire2) # Multiply gamma by the weight - this is the first algorithmetic change from the unweighted maxcut code\n",
    "        qml.CNOT(wires=[wire1, wire2])"
   ]
  },
  {
   "cell_type": "code",
   "execution_count": 8,
   "metadata": {},
   "outputs": [],
   "source": [
    "# Defining a function to measure all qubits in the computational basis, because Pennylane doesn't seem to have one.\n",
    "def comp_basis_measurement(wires):\n",
    "    num_nodes = len(wires)\n",
    "    return qml.Hermitian(np.diag(range(2 ** num_nodes)), wires=wires)"
   ]
  },
  {
   "cell_type": "code",
   "execution_count": 9,
   "metadata": {},
   "outputs": [
    {
     "ename": "DeviceError",
     "evalue": "The analytic argument has been replaced by shots=None. Please use shots=None instead of analytic=True.",
     "output_type": "error",
     "traceback": [
      "\u001b[1;31m---------------------------------------------------------------------------\u001b[0m",
      "\u001b[1;31mDeviceError\u001b[0m                               Traceback (most recent call last)",
      "\u001b[1;32mc:\\Users\\USER\\Desktop\\quantum_weight\\qaoa_test.ipynb 셀 7\u001b[0m in \u001b[0;36m<cell line: 1>\u001b[1;34m()\u001b[0m\n\u001b[1;32m----> <a href='vscode-notebook-cell:/c%3A/Users/USER/Desktop/quantum_weight/qaoa_test.ipynb#W6sZmlsZQ%3D%3D?line=0'>1</a>\u001b[0m dev \u001b[39m=\u001b[39m qml\u001b[39m.\u001b[39;49mdevice(\u001b[39m\"\u001b[39;49m\u001b[39mdefault.qubit\u001b[39;49m\u001b[39m\"\u001b[39;49m, wires\u001b[39m=\u001b[39;49mnum_nodes, analytic\u001b[39m=\u001b[39;49m\u001b[39mTrue\u001b[39;49;00m, shots\u001b[39m=\u001b[39;49m\u001b[39m1\u001b[39;49m)\n",
      "File \u001b[1;32mc:\\Users\\USER\\anaconda3\\envs\\quantum\\lib\\site-packages\\pennylane\\__init__.py:320\u001b[0m, in \u001b[0;36mdevice\u001b[1;34m(name, *args, **kwargs)\u001b[0m\n\u001b[0;32m    314\u001b[0m     \u001b[39mraise\u001b[39;00m DeviceError(\n\u001b[0;32m    315\u001b[0m         \u001b[39mf\u001b[39m\u001b[39m\"\u001b[39m\u001b[39mThe \u001b[39m\u001b[39m{\u001b[39;00mname\u001b[39m}\u001b[39;00m\u001b[39m plugin requires PennyLane versions \u001b[39m\u001b[39m{\u001b[39;00mplugin_device_class\u001b[39m.\u001b[39mpennylane_requires\u001b[39m}\u001b[39;00m\u001b[39m, \u001b[39m\u001b[39m\"\u001b[39m\n\u001b[0;32m    316\u001b[0m         \u001b[39mf\u001b[39m\u001b[39m\"\u001b[39m\u001b[39mhowever PennyLane version \u001b[39m\u001b[39m{\u001b[39;00m__version__\u001b[39m}\u001b[39;00m\u001b[39m is installed.\u001b[39m\u001b[39m\"\u001b[39m\n\u001b[0;32m    317\u001b[0m     )\n\u001b[0;32m    319\u001b[0m \u001b[39m# Construct the device\u001b[39;00m\n\u001b[1;32m--> 320\u001b[0m dev \u001b[39m=\u001b[39m plugin_device_class(\u001b[39m*\u001b[39margs, \u001b[39m*\u001b[39m\u001b[39m*\u001b[39moptions)\n\u001b[0;32m    322\u001b[0m \u001b[39m# Once the device is constructed, we set its custom expansion function if\u001b[39;00m\n\u001b[0;32m    323\u001b[0m \u001b[39m# any custom decompositions were specified.\u001b[39;00m\n\u001b[0;32m    324\u001b[0m \u001b[39mif\u001b[39;00m custom_decomps \u001b[39mis\u001b[39;00m \u001b[39mnot\u001b[39;00m \u001b[39mNone\u001b[39;00m:\n",
      "File \u001b[1;32mc:\\Users\\USER\\anaconda3\\envs\\quantum\\lib\\site-packages\\pennylane\\devices\\default_qubit.py:169\u001b[0m, in \u001b[0;36mDefaultQubit.__init__\u001b[1;34m(self, wires, r_dtype, c_dtype, shots, analytic)\u001b[0m\n\u001b[0;32m    166\u001b[0m \u001b[39mdef\u001b[39;00m \u001b[39m__init__\u001b[39m(\n\u001b[0;32m    167\u001b[0m     \u001b[39mself\u001b[39m, wires, \u001b[39m*\u001b[39m, r_dtype\u001b[39m=\u001b[39mnp\u001b[39m.\u001b[39mfloat64, c_dtype\u001b[39m=\u001b[39mnp\u001b[39m.\u001b[39mcomplex128, shots\u001b[39m=\u001b[39m\u001b[39mNone\u001b[39;00m, analytic\u001b[39m=\u001b[39m\u001b[39mNone\u001b[39;00m\n\u001b[0;32m    168\u001b[0m ):\n\u001b[1;32m--> 169\u001b[0m     \u001b[39msuper\u001b[39;49m()\u001b[39m.\u001b[39;49m\u001b[39m__init__\u001b[39;49m(wires, shots, r_dtype\u001b[39m=\u001b[39;49mr_dtype, c_dtype\u001b[39m=\u001b[39;49mc_dtype, analytic\u001b[39m=\u001b[39;49manalytic)\n\u001b[0;32m    170\u001b[0m     \u001b[39mself\u001b[39m\u001b[39m.\u001b[39m_debugger \u001b[39m=\u001b[39m \u001b[39mNone\u001b[39;00m\n\u001b[0;32m    172\u001b[0m     \u001b[39m# Create the initial state. Internally, we store the\u001b[39;00m\n\u001b[0;32m    173\u001b[0m     \u001b[39m# state as an array of dimension [2]*wires.\u001b[39;00m\n",
      "File \u001b[1;32mc:\\Users\\USER\\anaconda3\\envs\\quantum\\lib\\site-packages\\pennylane\\_qubit_device.py:205\u001b[0m, in \u001b[0;36mQubitDevice.__init__\u001b[1;34m(self, wires, shots, r_dtype, c_dtype, analytic)\u001b[0m\n\u001b[0;32m    202\u001b[0m \u001b[39mdef\u001b[39;00m \u001b[39m__init__\u001b[39m(\n\u001b[0;32m    203\u001b[0m     \u001b[39mself\u001b[39m, wires\u001b[39m=\u001b[39m\u001b[39m1\u001b[39m, shots\u001b[39m=\u001b[39m\u001b[39mNone\u001b[39;00m, \u001b[39m*\u001b[39m, r_dtype\u001b[39m=\u001b[39mnp\u001b[39m.\u001b[39mfloat64, c_dtype\u001b[39m=\u001b[39mnp\u001b[39m.\u001b[39mcomplex128, analytic\u001b[39m=\u001b[39m\u001b[39mNone\u001b[39;00m\n\u001b[0;32m    204\u001b[0m ):\n\u001b[1;32m--> 205\u001b[0m     \u001b[39msuper\u001b[39;49m()\u001b[39m.\u001b[39;49m\u001b[39m__init__\u001b[39;49m(wires\u001b[39m=\u001b[39;49mwires, shots\u001b[39m=\u001b[39;49mshots, analytic\u001b[39m=\u001b[39;49manalytic)\n\u001b[0;32m    207\u001b[0m     \u001b[39mif\u001b[39;00m \u001b[39m\"\u001b[39m\u001b[39mfloat\u001b[39m\u001b[39m\"\u001b[39m \u001b[39mnot\u001b[39;00m \u001b[39min\u001b[39;00m \u001b[39mstr\u001b[39m(r_dtype):\n\u001b[0;32m    208\u001b[0m         \u001b[39mraise\u001b[39;00m DeviceError(\u001b[39m\"\u001b[39m\u001b[39mReal datatype must be a floating point type.\u001b[39m\u001b[39m\"\u001b[39m)\n",
      "File \u001b[1;32mc:\\Users\\USER\\anaconda3\\envs\\quantum\\lib\\site-packages\\pennylane\\_device.py:133\u001b[0m, in \u001b[0;36mDevice.__init__\u001b[1;34m(self, wires, shots, analytic)\u001b[0m\n\u001b[0;32m    131\u001b[0m     msg \u001b[39m=\u001b[39m \u001b[39m\"\u001b[39m\u001b[39mThe analytic argument has been replaced by shots=None. \u001b[39m\u001b[39m\"\u001b[39m\n\u001b[0;32m    132\u001b[0m     msg \u001b[39m+\u001b[39m\u001b[39m=\u001b[39m \u001b[39m\"\u001b[39m\u001b[39mPlease use shots=None instead of analytic=True.\u001b[39m\u001b[39m\"\u001b[39m\n\u001b[1;32m--> 133\u001b[0m     \u001b[39mraise\u001b[39;00m DeviceError(msg)\n\u001b[0;32m    135\u001b[0m \u001b[39mif\u001b[39;00m \u001b[39mnot\u001b[39;00m \u001b[39misinstance\u001b[39m(wires, Iterable):\n\u001b[0;32m    136\u001b[0m     \u001b[39m# interpret wires as the number of consecutive wires\u001b[39;00m\n\u001b[0;32m    137\u001b[0m     wires \u001b[39m=\u001b[39m \u001b[39mrange\u001b[39m(wires)\n",
      "\u001b[1;31mDeviceError\u001b[0m: The analytic argument has been replaced by shots=None. Please use shots=None instead of analytic=True."
     ]
    }
   ],
   "source": [
    "dev = qml.device(\"default.qubit\", wires=num_nodes, analytic=True, shots=1)"
   ]
  },
  {
   "cell_type": "code",
   "execution_count": 8,
   "metadata": {},
   "outputs": [],
   "source": [
    "# Write a function that calculates the number of edges shared between the partitions of the graph.\n",
    "def maxcut_obj(x, G):\n",
    "    \"\"\"\n",
    "    Given a bitstring x and a graph G, return the number of edges shared between the paritions of the graph (objective).\n",
    "\n",
    "    Parameters\n",
    "    ----------\n",
    "    x: str\n",
    "        Test solution bitstring.\n",
    "    G: networkx.classes.graph.Graph\n",
    "        Input graph state.\n",
    "    Returns\n",
    "    -------\n",
    "    out: int\n",
    "        Objective.\n",
    "    \"\"\"\n",
    "    out = 0\n",
    "    for i,j in G.edges():\n",
    "        out -= 1*(x[i] != x[j]) # Negative because we want to minimise the expectation value.\n",
    "    return out\n",
    "\n",
    "# Write a function that calculate the expectation value of the maxcut objective.\n",
    "def expectation_maxcut_obj(counts, G):\n",
    "    \"\"\"\n",
    "    Given a graph G and the resulting occurrences of different bitstrings, calculate and return the expectation value of the maxcut objective.\n",
    "\n",
    "    Parameters\n",
    "    ----------\n",
    "    counts: dict\n",
    "        Key as bitstring, val as count as the corresponding bitstrings.\n",
    "    G: networkx.classes.graph.Graph\n",
    "        Input graph state.\n",
    "    \n",
    "    Returns\n",
    "    -------\n",
    "    out: float\n",
    "        Expectation value of the maxcut objective.\n",
    "    \"\"\"\n",
    "    avg = 0\n",
    "    sum_count = 0\n",
    "    for bitstring, count in counts.items():\n",
    "        obj = maxcut_obj(bitstring, G)\n",
    "        avg += obj*count\n",
    "        sum_count += count\n",
    "    out = avg/sum_count\n",
    "    return out"
   ]
  },
  {
   "cell_type": "code",
   "execution_count": 9,
   "metadata": {},
   "outputs": [],
   "source": [
    "def get_expectation(G, p , shots=512):\n",
    "    backend = BasicAer.get_backend('qasm_simulator')\n",
    "    def execute_circ(theta):\n",
    "        qc = generate_QAOA_circuit(p, theta)\n",
    "        counts = execute(qc,backend,shots=shots).result().get_counts()\n",
    "        return expectation_maxcut_obj(counts, G)\n",
    "    return execute_circ"
   ]
  },
  {
   "cell_type": "code",
   "execution_count": 10,
   "metadata": {},
   "outputs": [
    {
     "name": "stdout",
     "output_type": "stream",
     "text": [
      "     fun: -4.49267578125\n",
      "   maxcv: 0.0\n",
      " message: 'Optimization terminated successfully.'\n",
      "    nfev: 32\n",
      "  status: 1\n",
      " success: True\n",
      "       x: array([1.96439457, 1.19946836])\n"
     ]
    }
   ],
   "source": [
    "# Minimise the expectation value of the maxcut objective using scipy's classical minimisation function.\n",
    "p = 2\n",
    "f_min = get_expectation(G, p=p, shots=4096) # function to minimise using a classical minimisation technique.\n",
    "theta_guess = [1.0, 1.0] # initial guess values for beta and gamma.\n",
    "out = minimize(f_min, theta_guess, method='COBYLA')\n",
    "print(f\"{out}\")"
   ]
  },
  {
   "cell_type": "code",
   "execution_count": 11,
   "metadata": {},
   "outputs": [
    {
     "data": {
      "image/png": "[encoded data removed]",
      "text/plain": [
       "<Figure size 504x360 with 1 Axes>"
      ]
     },
     "execution_count": 11,
     "metadata": {},
     "output_type": "execute_result"
    }
   ],
   "source": [
    "# Visualise the result from the classical minimisation.\n",
    "backend = BasicAer.get_backend('qasm_simulator')\n",
    "\n",
    "qc_res = generate_QAOA_circuit(p, out.x)\n",
    "\n",
    "counts = execute(qc_res,backend,shots=4096).result().get_counts()\n",
    "\n",
    "plot_histogram(counts)"
   ]
  },
  {
   "cell_type": "code",
   "execution_count": 12,
   "metadata": {},
   "outputs": [
    {
     "data": {
      "text/plain": [
       "{'010101': 584,\n",
       " '101010': 521,\n",
       " '110010': 149,\n",
       " '101101': 148,\n",
       " '001001': 146,\n",
       " '101100': 140,\n",
       " '100100': 139,\n",
       " '100101': 139,\n",
       " '100110': 137,\n",
       " '110110': 137,\n",
       " '011010': 136,\n",
       " '011011': 134,\n",
       " '010110': 132,\n",
       " '101001': 131,\n",
       " '110100': 129,\n",
       " '010011': 123,\n",
       " '011001': 122,\n",
       " '001011': 120,\n",
       " '001101': 119,\n",
       " '010010': 107,\n",
       " '101110': 50,\n",
       " '000101': 48,\n",
       " '111010': 45,\n",
       " '101011': 44,\n",
       " '001010': 41,\n",
       " '110101': 38,\n",
       " '100010': 37,\n",
       " '010100': 36,\n",
       " '011101': 35,\n",
       " '101000': 34,\n",
       " '010001': 33,\n",
       " '010111': 33,\n",
       " '000001': 14,\n",
       " '011100': 14,\n",
       " '110111': 11,\n",
       " '111101': 8,\n",
       " '011111': 8,\n",
       " '001000': 7,\n",
       " '100011': 7,\n",
       " '111011': 6,\n",
       " '111000': 6,\n",
       " '001110': 6,\n",
       " '110001': 6,\n",
       " '101111': 5,\n",
       " '000111': 5,\n",
       " '100000': 5,\n",
       " '111110': 4,\n",
       " '010000': 4,\n",
       " '000010': 4,\n",
       " '000100': 3,\n",
       " '011000': 1,\n",
       " '001100': 1,\n",
       " '100111': 1,\n",
       " '100001': 1,\n",
       " '000110': 1,\n",
       " '110000': 1}"
      ]
     },
     "execution_count": 12,
     "metadata": {},
     "output_type": "execute_result"
    }
   ],
   "source": [
    "# Sorting highest to lowest bitstring occurrences.\n",
    "dict(sorted(counts.items(), key=lambda item: item[1], reverse=True))"
   ]
  },
  {
   "cell_type": "code",
   "execution_count": null,
   "metadata": {},
   "outputs": [],
   "source": []
  }
 ],
 "metadata": {
  "kernelspec": {
   "display_name": "Python 3.9.12 ('quantum')",
   "language": "python",
   "name": "python3"
  },
  "language_info": {
   "codemirror_mode": {
    "name": "ipython",
    "version": 3
   },
   "file_extension": ".py",
   "mimetype": "text/x-python",
   "name": "python",
   "nbconvert_exporter": "python",
   "pygments_lexer": "ipython3",
   "version": "3.9.12"
  },
  "orig_nbformat": 4,
  "vscode": {
   "interpreter": {
    "hash": "d8a7481d9680c20e68e4c37200255363f883e15033fd4c0941b9f74b1b9693e1"
   }
  }
 },
 "nbformat": 4,
 "nbformat_minor": 2
}
